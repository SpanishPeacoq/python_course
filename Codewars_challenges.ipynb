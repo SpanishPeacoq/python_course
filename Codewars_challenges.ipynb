{
  "nbformat": 4,
  "nbformat_minor": 0,
  "metadata": {
    "colab": {
      "provenance": [],
      "authorship_tag": "ABX9TyOzBfEXYqvmI8GUWEmtX1ep",
      "include_colab_link": true
    },
    "kernelspec": {
      "name": "python3",
      "display_name": "Python 3"
    },
    "language_info": {
      "name": "python"
    }
  },
  "cells": [
    {
      "cell_type": "markdown",
      "metadata": {
        "id": "view-in-github",
        "colab_type": "text"
      },
      "source": [
        "<a href=\"https://colab.research.google.com/github/SpanishPeacoq/python_course/blob/master/Codewars_challenges.ipynb\" target=\"_parent\"><img src=\"https://colab.research.google.com/assets/colab-badge.svg\" alt=\"Open In Colab\"/></a>"
      ]
    },
    {
      "cell_type": "code",
      "execution_count": null,
      "metadata": {
        "id": "UQgBzty7wG82"
      },
      "outputs": [],
      "source": []
    },
    {
      "cell_type": "markdown",
      "source": [
        "Write a function findNeedle() that takes an array full of junk but containing one \"needle\"\n",
        "\n",
        "After your function finds the needle it should return a message (as a string) that says:\n",
        "\n",
        "\"found the needle at position \" plus the index it found the needle, so:\n",
        "\n",
        "Example(Input --> Output)\n",
        "\n",
        "[\"hay\", \"junk\", \"hay\", \"hay\", \"moreJunk\", \"needle\", \"randomJunk\"] --> \"found the needle at position 5\"\n",
        "Note: In COBOL, it should return \"found the needle at position 6\""
      ],
      "metadata": {
        "id": "XdO3KKpFwMYJ"
      }
    },
    {
      "cell_type": "code",
      "source": [],
      "metadata": {
        "id": "Gz3_144cwRV2"
      },
      "execution_count": null,
      "outputs": []
    }
  ]
}